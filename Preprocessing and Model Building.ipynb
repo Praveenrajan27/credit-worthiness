{
 "cells": [
  {
   "cell_type": "markdown",
   "metadata": {},
   "source": [
    "# Credit Risk Prediction - TakeHome Epifi [part 2]"
   ]
  },
  {
   "cell_type": "markdown",
   "metadata": {},
   "source": [
    "This Notebook contains the following sections\n",
    "\n",
    "1. Preprocessing and data encoding\n",
    "2. Model Selection\n",
    "3. Finetuning the final model\n",
    "4. Additional Features that could have been available"
   ]
  },
  {
   "cell_type": "markdown",
   "metadata": {},
   "source": [
    "### Section 1. Preprocessing"
   ]
  },
  {
   "cell_type": "code",
   "execution_count": 21,
   "metadata": {},
   "outputs": [],
   "source": [
    "import pandas as pd\n",
    "import numpy as np\n",
    "import matplotlib.pyplot as plt\n",
    "import seaborn as sns\n",
    "import tqdm\n",
    "\n",
    "from sklearn.model_selection import train_test_split\n",
    "from sklearn.preprocessing import OrdinalEncoder,LabelEncoder,OneHotEncoder\n",
    "from sklearn.metrics import confusion_matrix,precision_score,recall_score,accuracy_score\n",
    "from scipy.stats import chi2_contingency"
   ]
  },
  {
   "cell_type": "code",
   "execution_count": 7,
   "metadata": {},
   "outputs": [],
   "source": [
    "df_feat=pd.read_csv('cleaned_data_features.csv')"
   ]
  },
  {
   "cell_type": "code",
   "execution_count": 8,
   "metadata": {
    "collapsed": true
   },
   "outputs": [
    {
     "data": {
      "text/plain": [
       "Index(['loan_application_id', 'Months_loan_taken_for', 'Purpose',\n",
       "       'Principal_loan_amount', 'EMI_rate_in_percentage_of_disposable_income',\n",
       "       'Property', 'Has_coapplicant', 'Has_guarantor', 'Other_EMI_plans',\n",
       "       'Number_of_existing_loans_at_this_bank', 'Loan_history',\n",
       "       'high_risk_applicant', 'Gender', 'Marital_status',\n",
       "       'Number_of_dependents', 'Housing', 'Years_at_current_residence',\n",
       "       'Employment_status', 'Has_been_employed_for_at_least',\n",
       "       'Has_been_employed_for_at_most', 'Telephone', 'Foreign_worker',\n",
       "       'Savings_account_balance',\n",
       "       'Balance_in_existing_bank_account_(lower_limit_of_bucket)',\n",
       "       'Balance_in_existing_bank_account_(upper_limit_of_bucket)', 'Age_bin',\n",
       "       'complete_employment_current_residence', 'employment_start_age_bin',\n",
       "       'monthly_emi', 'Balance_not_available',\n",
       "       'Savings_balance_not_available'],\n",
       "      dtype='object')"
      ]
     },
     "execution_count": 8,
     "metadata": {},
     "output_type": "execute_result"
    }
   ],
   "source": [
    "df_feat.columns"
   ]
  },
  {
   "cell_type": "code",
   "execution_count": 9,
   "metadata": {},
   "outputs": [],
   "source": [
    "column_type={\n",
    "'nominal':['Purpose',  'Property',\n",
    "        'Other_EMI_plans','Loan_history',\n",
    "        'Gender', 'Marital_status',\n",
    "        'Housing', 'Employment_status',  \n",
    "         'Telephone', 'Foreign_worker',\n",
    "        'complete_employment_current_residence', \n",
    "        'Balance_not_available', 'Savings_balance_not_available'],\n",
    "\n",
    "'auto_ordinal':['Age_bin','employment_start_age_bin',\n",
    "              'Has_been_employed_for_at_least',\n",
    "              'Has_been_employed_for_at_most',],\n",
    "\n",
    "'manual_ordinal':['Balance_in_existing_bank_account_(lower_limit_of_bucket)',\n",
    "       'Balance_in_existing_bank_account_(upper_limit_of_bucket)',],\n",
    "\n",
    "'numerical':['Months_loan_taken_for', 'Principal_loan_amount',\n",
    "       'EMI_rate_in_percentage_of_disposable_income','Has_coapplicant',\n",
    "           'Has_guarantor','Number_of_existing_loans_at_this_bank',\n",
    "        'Number_of_dependents','Years_at_current_residence',\n",
    "          'Savings_account_balance','monthly_emi',],\n",
    "'target':['high_risk_applicant']}"
   ]
  },
  {
   "cell_type": "code",
   "execution_count": 10,
   "metadata": {},
   "outputs": [],
   "source": [
    "ordinal_mapping = {\n",
    "       '>2 lac':3,\n",
    "       '2 lac': 2,\n",
    "       '0': 1,\n",
    "       '<0': 0}"
   ]
  },
  {
   "cell_type": "code",
   "execution_count": 11,
   "metadata": {},
   "outputs": [],
   "source": [
    "def preprocessing_feats(x_train,x_test,col_type,ordinal_mapping):\n",
    "    #encoding nominal features\n",
    "    ohe=OneHotEncoder(sparse=False)\n",
    "    ohe.fit(x_train[col_type['nominal']])\n",
    "    x_train_en=ohe.transform(x_train[col_type['nominal']])\n",
    "    x_test_en=ohe.transform(x_test[col_type['nominal']])\n",
    "\n",
    "    \n",
    "    #encoding ordinal feats that need manual mapping\n",
    "    for col in col_type['manual_ordinal']:\n",
    "        x_train.loc[:,col]=x_train[col].map(ordinal_mapping)\n",
    "        x_test.loc[:,col]=x_test[col].map(ordinal_mapping)\n",
    "        \n",
    "    #encoding ordinal features auto detectable by sklearn\n",
    "    ode=OrdinalEncoder()\n",
    "    ordinal=col_type['auto_ordinal']+ col_type['manual_ordinal']\n",
    "    ode.fit(x_train[ordinal])\n",
    "    x_train_ae=ode.transform(x_train[ordinal])\n",
    "    x_test_ae=ode.transform(x_test[ordinal])\n",
    "    x_train_en=np.hstack((x_train_ae,x_train_en))\n",
    "    x_test_en=np.hstack((x_test_ae,x_test_en))\n",
    "    \n",
    "    feat_names=list(ohe.get_feature_names())+ordinal\n",
    "\n",
    "    return x_train_en,x_test_en,feat_names"
   ]
  },
  {
   "cell_type": "code",
   "execution_count": 12,
   "metadata": {},
   "outputs": [],
   "source": [
    "def preprocessing_target(y_train,y_test):\n",
    "    le=LabelEncoder()\n",
    "    le.fit(y_train)\n",
    "    y_train_en=le.transform(y_train)\n",
    "    y_test_en=le.transform(y_test)\n",
    "    return y_train_en,y_test_en"
   ]
  },
  {
   "cell_type": "code",
   "execution_count": 13,
   "metadata": {},
   "outputs": [],
   "source": [
    "X=df_feat[df_feat.columns.difference(['high_risk_applicant'])]\n",
    "y=df_feat[['high_risk_applicant']]"
   ]
  },
  {
   "cell_type": "code",
   "execution_count": 16,
   "metadata": {},
   "outputs": [
    {
     "name": "stderr",
     "output_type": "stream",
     "text": [
      "C:\\Users\\rajanp\\AppData\\Local\\Continuum\\anaconda3\\lib\\site-packages\\pandas\\core\\indexing.py:1743: SettingWithCopyWarning: \n",
      "A value is trying to be set on a copy of a slice from a DataFrame.\n",
      "Try using .loc[row_indexer,col_indexer] = value instead\n",
      "\n",
      "See the caveats in the documentation: https://pandas.pydata.org/pandas-docs/stable/user_guide/indexing.html#returning-a-view-versus-a-copy\n",
      "  isetter(ilocs[0], value)\n",
      "C:\\Users\\rajanp\\AppData\\Local\\Continuum\\anaconda3\\lib\\site-packages\\sklearn\\utils\\validation.py:73: DataConversionWarning: A column-vector y was passed when a 1d array was expected. Please change the shape of y to (n_samples, ), for example using ravel().\n",
      "  return f(**kwargs)\n",
      "C:\\Users\\rajanp\\AppData\\Local\\Continuum\\anaconda3\\lib\\site-packages\\sklearn\\utils\\validation.py:73: DataConversionWarning: A column-vector y was passed when a 1d array was expected. Please change the shape of y to (n_samples, ), for example using ravel().\n",
      "  return f(**kwargs)\n",
      "C:\\Users\\rajanp\\AppData\\Local\\Continuum\\anaconda3\\lib\\site-packages\\sklearn\\utils\\validation.py:73: DataConversionWarning: A column-vector y was passed when a 1d array was expected. Please change the shape of y to (n_samples, ), for example using ravel().\n",
      "  return f(**kwargs)\n"
     ]
    }
   ],
   "source": [
    "x_train,x_test,y_train,y_test=train_test_split(X,y,test_size=0.3, random_state=1)\n",
    "x_train_en,x_test_en,feature_names=preprocessing_feats(x_train,x_test,column_type,ordinal_mapping)\n",
    "y_train_en,y_test_en=preprocessing_target(y_train,y_test)\n"
   ]
  },
  {
   "cell_type": "code",
   "execution_count": 17,
   "metadata": {},
   "outputs": [],
   "source": [
    "from sklearn.linear_model import LogisticRegression\n",
    "from sklearn.ensemble import RandomForestClassifier\n",
    "from xgboost import XGBClassifier\n",
    "from catboost import CatBoostClassifier\n",
    "from sklearn.model_selection import cross_val_score,GridSearchCV\n",
    "from sklearn.model_selection import RepeatedStratifiedKFold\n",
    "from numpy import mean,std"
   ]
  },
  {
   "cell_type": "code",
   "execution_count": 18,
   "metadata": {},
   "outputs": [],
   "source": [
    "def Accuracy_cost_score(cm):\n",
    "    TN=cm[0,0]\n",
    "    TP=cm[1,1]\n",
    "    FN=cm[1,0]\n",
    "    FP=cm[0,1]\n",
    "    return (TN+TP)/(TN+TP+(4*FN)+FP)"
   ]
  },
  {
   "cell_type": "code",
   "execution_count": 19,
   "metadata": {},
   "outputs": [],
   "source": [
    "def get_model_metrics(y_true,y_pred):\n",
    "    cm=confusion_matrix(y_true, y_pred)\n",
    "    print('Confusion Matrix:\\n{}'.format(cm))\n",
    "    pr=precision_score(y_pred=y_pred,y_true=y_true)\n",
    "    print('Precision score: {}'.format(pr))\n",
    "    recall=recall_score(y_pred=y_pred,y_true=y_true)\n",
    "    print('Recall score: {}'.format(recall))\n",
    "#     acc=accuracy_score(y_pred=y_pred,y_true=y_true)\n",
    "#     print('Accuracy score: {}'.format(acc))\n",
    "    w_acc=Accuracy_cost_score(cm)\n",
    "    print('Accuracy Score with Cost: {}'.format(w_acc))    "
   ]
  },
  {
   "cell_type": "markdown",
   "metadata": {},
   "source": [
    "### Section 2. Model Selection\n",
    "\n",
    "Now that the features have been finalized, we can try out different model to predict of the high risk applicants\n",
    "This is classification problem and there were a lot of categorical features. \n",
    "I have tried here the below models\n",
    "\n",
    "1. Logitic regression\n",
    "2. Randon Forest Model\n",
    "3. xgboost Model\n",
    "4. Catboost Model"
   ]
  },
  {
   "cell_type": "markdown",
   "metadata": {},
   "source": [
    "##### 1. Logistic regression\n",
    "\n",
    "This is simplest model and gave a good enough results for the first run and is so much better than our baseline model.\n",
    "The recall here is 0.68"
   ]
  },
  {
   "cell_type": "code",
   "execution_count": 22,
   "metadata": {},
   "outputs": [
    {
     "name": "stdout",
     "output_type": "stream",
     "text": [
      "Confusion Matrix:\n",
      "[[136  79]\n",
      " [ 26  56]]\n",
      "Precision score: 0.4148148148148148\n",
      "Recall score: 0.6829268292682927\n",
      "Accuracy Score with Cost: 0.512\n"
     ]
    },
    {
     "name": "stderr",
     "output_type": "stream",
     "text": [
      "C:\\Users\\rajanp\\AppData\\Local\\Continuum\\anaconda3\\lib\\site-packages\\sklearn\\linear_model\\_sag.py:330: ConvergenceWarning: The max_iter was reached which means the coef_ did not converge\n",
      "  \"the coef_ did not converge\", ConvergenceWarning)\n"
     ]
    }
   ],
   "source": [
    "lr = LogisticRegression(solver=\"sag\", class_weight=\"balanced\")\n",
    "lr.fit(x_train_en, y_train_en)\n",
    "lr_y_pred = lr.predict(x_test_en)\n",
    "get_model_metrics(y_test, lr_y_pred)"
   ]
  },
  {
   "cell_type": "markdown",
   "metadata": {},
   "source": [
    "##### 2. Random Forest\n",
    "Random forest is a bagging tree based model and usually it gives a good results because it is based on collection trees. Although the numbers are better than our baseline it is lower compared to our Logistic regression model"
   ]
  },
  {
   "cell_type": "code",
   "execution_count": 23,
   "metadata": {},
   "outputs": [
    {
     "name": "stdout",
     "output_type": "stream",
     "text": [
      "Confusion Matrix:\n",
      "[[180  35]\n",
      " [ 43  39]]\n",
      "Precision score: 0.527027027027027\n",
      "Recall score: 0.47560975609756095\n",
      "Accuracy Score with Cost: 0.5140845070422535\n"
     ]
    }
   ],
   "source": [
    "rf=RandomForestClassifier(n_estimators=200, n_jobs=-1)\n",
    "rf.fit(x_train_en, y_train_en)\n",
    "rf_y_pred = rf.predict(x_test_en)\n",
    "get_model_metrics(y_test, rf_y_pred)"
   ]
  },
  {
   "cell_type": "markdown",
   "metadata": {},
   "source": [
    "##### 3. Gradient Boost Method\n",
    "Ideally I would have expected the xgboost model to have given better performance. However the metrics are still lower than the logistic regression model and is still comparable to the random forest model."
   ]
  },
  {
   "cell_type": "code",
   "execution_count": 599,
   "metadata": {},
   "outputs": [
    {
     "name": "stdout",
     "output_type": "stream",
     "text": [
      "Confusion Matrix:\n",
      "[[184  31]\n",
      " [ 46  36]]\n",
      "Precision score: 0.5373134328358209\n",
      "Recall score: 0.43902439024390244\n",
      "Accuracy score: 0.7407407407407407\n",
      "Accuracy Score with Cost: 0.5057471264367817\n"
     ]
    }
   ],
   "source": [
    "xgb_model = XGBClassifier(random_state=42)\n",
    "xgb_model.fit(x_train_en, y_train_en)\n",
    "xgb_y_pred = xgb_model.predict(x_test_en)\n",
    "get_model_metrics(y_test, xgb_y_pred)"
   ]
  },
  {
   "cell_type": "markdown",
   "metadata": {},
   "source": [
    "##### 4. Catboost model\n",
    "The Cat boost model has gained popularity in the recently for its superior results and is known to be one of the best boosting algorithms.\n",
    "However the results from catboost are also comparable to our xgboost and random forest model.\n",
    "\n",
    "So our clear winner is the good old logitic regression"
   ]
  },
  {
   "cell_type": "code",
   "execution_count": 610,
   "metadata": {},
   "outputs": [
    {
     "name": "stdout",
     "output_type": "stream",
     "text": [
      "Confusion Matrix:\n",
      "[[180  35]\n",
      " [ 43  39]]\n",
      "Precision score: 0.527027027027027\n",
      "Recall score: 0.47560975609756095\n",
      "Accuracy score: 0.7373737373737373\n",
      "Accuracy Score with Cost: 0.5140845070422535\n"
     ]
    }
   ],
   "source": [
    "cat_model = CatBoostClassifier(verbose=0, n_estimators=150)\n",
    "cat_model.fit(x_train_en, y_train_en)\n",
    "cat_y_pred = cat_model.predict(x_test_en)\n",
    "get_model_metrics(y_test, cat_y_pred)"
   ]
  },
  {
   "cell_type": "markdown",
   "metadata": {},
   "source": [
    "\n",
    "### Section 3. Final Model - Tuning the Logistic regression model\n",
    "\n",
    "1. Selecting Most Important Features from Random Forest model\n",
    "2. Running K fold CV to check average model metrics\n",
    "3. Parameter Tuning using Grid Search CV"
   ]
  },
  {
   "cell_type": "markdown",
   "metadata": {},
   "source": [
    "##### 1. Selecting Most Important Features from Random Forest model.\n",
    "\n",
    "The Features were plotted based on importance and selected based on a thershold to get K best features.\n",
    "The graph below shown a good point of threshold of 0.02 which gave us around 16 Features.\n",
    "\n",
    "This model gave a better recall score of 0.75"
   ]
  },
  {
   "cell_type": "code",
   "execution_count": 24,
   "metadata": {
    "collapsed": true
   },
   "outputs": [
    {
     "data": {
      "image/png": "[encoded data removed]",
      "text/plain": [
       "<Figure size 1080x720 with 1 Axes>"
      ]
     },
     "metadata": {},
     "output_type": "display_data"
    }
   ],
   "source": [
    "# random forest model feature contribution visualization\n",
    "feature_importances = rf.feature_importances_\n",
    "feature_names=np.array(feature_names)\n",
    "indices = np.argsort(feature_importances)[::-1]\n",
    "show_indices = indices[0:30]\n",
    "sns.set_style(\"whitegrid\")\n",
    "f, ax = plt.subplots(figsize=(15, 10))\n",
    "sns.barplot(x=feature_importances[show_indices], y=feature_names[show_indices], ax=ax)\n",
    "ax.set_title(\"rf model feature importance top30\", fontsize=16)\n",
    "ax.set_xlabel(\"feature importance score\", fontsize=16)\n",
    "ax.set_ylabel(\"feature name\", fontsize=16)\n",
    "plt.show()\n",
    "plt.close()"
   ]
  },
  {
   "cell_type": "code",
   "execution_count": 25,
   "metadata": {},
   "outputs": [],
   "source": [
    "top_feats=feature_names[feature_importances>0.02]\n",
    "show_indices = indices[0:15]"
   ]
  },
  {
   "cell_type": "code",
   "execution_count": 583,
   "metadata": {
    "collapsed": true
   },
   "outputs": [
    {
     "data": {
      "text/plain": [
       "['x0_FF&E',\n",
       " 'x0_business',\n",
       " 'x0_career development',\n",
       " 'x0_domestic appliances',\n",
       " 'x0_education',\n",
       " 'x0_electronic equipment',\n",
       " 'x0_new vehicle',\n",
       " 'x1_car or other',\n",
       " 'x1_real estate',\n",
       " 'x2_stores',\n",
       " 'x3_critical/pending loans at other banks',\n",
       " 'x3_delay in paying off loans in the past',\n",
       " 'x3_existing loans paid back duly till now',\n",
       " 'x5_divorced/separated',\n",
       " 'x5_married/widowed',\n",
       " 'x8_Not Available',\n",
       " 'x9_1',\n",
       " 'x11_0',\n",
       " 'x11_1',\n",
       " 'Has_been_employed_for_at_least',\n",
       " 'Has_been_employed_for_at_most']"
      ]
     },
     "execution_count": 583,
     "metadata": {},
     "output_type": "execute_result"
    }
   ],
   "source": [
    "list(top_feats)"
   ]
  },
  {
   "cell_type": "code",
   "execution_count": 26,
   "metadata": {},
   "outputs": [
    {
     "name": "stdout",
     "output_type": "stream",
     "text": [
      "Confusion Matrix:\n",
      "[[130  85]\n",
      " [ 21  61]]\n",
      "Precision score: 0.4178082191780822\n",
      "Recall score: 0.7439024390243902\n",
      "Accuracy Score with Cost: 0.5305555555555556\n"
     ]
    },
    {
     "name": "stderr",
     "output_type": "stream",
     "text": [
      "C:\\Users\\rajanp\\AppData\\Local\\Continuum\\anaconda3\\lib\\site-packages\\sklearn\\linear_model\\_sag.py:330: ConvergenceWarning: The max_iter was reached which means the coef_ did not converge\n",
      "  \"the coef_ did not converge\", ConvergenceWarning)\n"
     ]
    }
   ],
   "source": [
    "lr = LogisticRegression(solver=\"sag\", class_weight=\"balanced\")\n",
    "lr.fit(x_train_en[:,show_indices], y_train_en)\n",
    "lr_y_pred = lr.predict(x_test_en[:,show_indices])\n",
    "get_model_metrics(y_test, lr_y_pred)\n"
   ]
  },
  {
   "cell_type": "markdown",
   "metadata": {},
   "source": [
    "##### 2. Running K fold CV to check average model metrics\n",
    "\n",
    "we can check if the model is performing good even in held out sets. Therefore a k fold model was run which gave us a recal of 0.70 which is not too low than the recall we had got."
   ]
  },
  {
   "cell_type": "code",
   "execution_count": 27,
   "metadata": {},
   "outputs": [
    {
     "name": "stdout",
     "output_type": "stream",
     "text": [
      "Recall: 0.726 (0.113)\n"
     ]
    }
   ],
   "source": [
    "cv = RepeatedStratifiedKFold(n_splits=12, n_repeats=5, random_state=1)\n",
    "n_scores = cross_val_score(lr, x_train_en[:,show_indices], y_train_en, scoring='recall', cv=cv, n_jobs=-1, error_score='raise')\n",
    "\n",
    "print('Recall: %.3f (%.3f)' % (mean(n_scores), std(n_scores)))"
   ]
  },
  {
   "cell_type": "markdown",
   "metadata": {},
   "source": [
    "##### 3. Parameter Tuning using Grid Search CV\n",
    "\n",
    "The model can still be improved if we tune some of the parameters.\n",
    "The parameters that were tried out were \n",
    "1. penalty - regularization type,\n",
    "2. c- regularization strength,\n",
    "3. Solver - Optimization algorithm\n",
    "\n",
    "\n",
    "As expected the final model gave good results of 0.87 of recall.\n"
   ]
  },
  {
   "cell_type": "code",
   "execution_count": 646,
   "metadata": {},
   "outputs": [
    {
     "name": "stdout",
     "output_type": "stream",
     "text": [
      "{'C': 0.04, 'penalty': 'l1', 'solver': 'liblinear'}\n"
     ]
    }
   ],
   "source": [
    "param_grid = {'C': [0.05, 0.04, 0.03, 0.02, 0.01, 0.10],\n",
    "             'penalty' : ['l1', 'l2'],\n",
    "            'solver' : ['liblinear','sag','sagd','lbfgs','newton-cg']}\n",
    "clf = GridSearchCV(estimator=lr, param_grid=param_grid,scoring='recall',cv=cv, n_jobs=-1 )\n",
    "clf.fit(x_train_en[:,show_indices], y_train_en)    \n",
    "best_parameters = clf.best_params_\n",
    "print(best_parameters)"
   ]
  },
  {
   "cell_type": "code",
   "execution_count": 649,
   "metadata": {},
   "outputs": [
    {
     "name": "stdout",
     "output_type": "stream",
     "text": [
      "Confusion Matrix:\n",
      "[[ 95 120]\n",
      " [ 10  72]]\n",
      "Precision score: 0.375\n",
      "Recall score: 0.8780487804878049\n",
      "Accuracy Score with Cost: 0.5107033639143731\n"
     ]
    }
   ],
   "source": [
    "lr = LogisticRegression(C=0.04,penalty='l1',solver='liblinear', class_weight=\"balanced\")\n",
    "lr.fit(x_train_en[:,show_indices], y_train_en)\n",
    "lr_y_pred = lr.predict(x_test_en[:,show_indices])\n",
    "get_model_metrics(y_test, lr_y_pred)"
   ]
  },
  {
   "cell_type": "markdown",
   "metadata": {},
   "source": [
    "### 4. Additional details"
   ]
  },
  {
   "cell_type": "markdown",
   "metadata": {},
   "source": [
    "While solving this problem I felt the below Additional details would have helped to predict even better\n",
    "1. Monthly surplus income of applicants\n",
    "2. credit score or credit history from other loans/banks\n",
    "3. Interest rate. This would help estimate the potential gain or loss by optimizing the threshold parameter on this metric to get maximise profit(interest) wile minimizing loss"
   ]
  }
 ],
 "metadata": {
  "kernelspec": {
   "display_name": "Python 3",
   "language": "python",
   "name": "python3"
  },
  "language_info": {
   "codemirror_mode": {
    "name": "ipython",
    "version": 3
   },
   "file_extension": ".py",
   "mimetype": "text/x-python",
   "name": "python",
   "nbconvert_exporter": "python",
   "pygments_lexer": "ipython3",
   "version": "3.7.0"
  }
 },
 "nbformat": 4,
 "nbformat_minor": 2
}
